{
 "cells": [
  {
   "cell_type": "code",
   "execution_count": 1,
   "metadata": {},
   "outputs": [
    {
     "name": "stdout",
     "output_type": "stream",
     "text": [
      "Our pet is 'Dog'!\n",
      "Our pet says hello by 'Woof!'\n",
      "Its food is 'Dog Food!'!\n"
     ]
    }
   ],
   "source": [
    "class Dog:\n",
    "\t\"\"\"One of the objects to be returned\"\"\"\n",
    "\n",
    "\tdef speak(self):\n",
    "\t\treturn \"Woof!\"\n",
    "\n",
    "\tdef __str__(self):\n",
    "\t\treturn \"Dog\"\n",
    "\n",
    "\n",
    "class DogFactory:\n",
    "\t\"\"\"Concrete Factory\"\"\"\n",
    "\n",
    "\tdef get_pet(self):\n",
    "\t\t\"\"\"Returns a Dog object\"\"\"\n",
    "\t\treturn Dog()\n",
    "\n",
    "\tdef get_food(self):\n",
    "\t\t\"\"\"Returns a Dog Food object\"\"\"\n",
    "\t\treturn \"Dog Food!\"\n",
    "\n",
    "\n",
    "class PetStore:\n",
    "\t\"\"\" PetStore houses our Abstract Factory \"\"\"\n",
    "\n",
    "\tdef __init__(self, pet_factory=None):\n",
    "\t\t\"\"\" pet_factory is our Abstract Factory \"\"\"\n",
    "\n",
    "\t\tself._pet_factory = pet_factory\n",
    "\n",
    "\n",
    "\tdef show_pet(self):\n",
    "\t\t\"\"\" Utility method to display the details of the objects retured by the DogFactory \"\"\"\n",
    "\n",
    "\t\tpet = self._pet_factory.get_pet()\n",
    "\t\tpet_food = self._pet_factory.get_food()\n",
    "\n",
    "\t\tprint(\"Our pet is '{}'!\".format(pet))\n",
    "\t\tprint(\"Our pet says hello by '{}'\".format(pet.speak()))\n",
    "\t\tprint(\"Its food is '{}'!\".format(pet_food))\n",
    "\n",
    "\n",
    "#Create a Concrete Factory\n",
    "factory = DogFactory()\n",
    "\n",
    "#Create a pet store housing our Abstract Factory\n",
    "shop = PetStore(factory)\n",
    "\n",
    "#Invoke the utility method to show the details of our pet\n",
    "shop.show_pet()"
   ]
  },
  {
   "cell_type": "code",
   "execution_count": null,
   "metadata": {},
   "outputs": [],
   "source": []
  }
 ],
 "metadata": {
  "kernelspec": {
   "display_name": "Python 3",
   "language": "python",
   "name": "python3"
  },
  "language_info": {
   "codemirror_mode": {
    "name": "ipython",
    "version": 3
   },
   "file_extension": ".py",
   "mimetype": "text/x-python",
   "name": "python",
   "nbconvert_exporter": "python",
   "pygments_lexer": "ipython3",
   "version": "3.9.13"
  },
  "orig_nbformat": 4,
  "vscode": {
   "interpreter": {
    "hash": "4d4e58afd13afe2b3fbfe86df77ca093c8534cab39407234a0fa2ee00983a445"
   }
  }
 },
 "nbformat": 4,
 "nbformat_minor": 2
}
