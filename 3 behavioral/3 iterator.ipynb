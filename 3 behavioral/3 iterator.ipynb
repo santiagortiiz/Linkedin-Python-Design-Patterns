{
 "cells": [
  {
   "attachments": {},
   "cell_type": "markdown",
   "metadata": {},
   "source": [
    "# Iterator\n",
    "\n",
    "Allows sequential traversal through a complex data structure without exposing its internal details"
   ]
  },
  {
   "cell_type": "code",
   "execution_count": 11,
   "metadata": {},
   "outputs": [
    {
     "name": "stdout",
     "output_type": "stream",
     "text": [
      "eins\n",
      "zwei\n",
      "drei\n",
      "eins\n",
      "zwei\n",
      "drei\n",
      "vier\n",
      "funf\n"
     ]
    }
   ],
   "source": [
    "def count_to(count):\n",
    "\t\"\"\"Our iterator implementation\"\"\"\n",
    "\n",
    "\t#Our list\n",
    "\tnumbers_in_german = [\"eins\", \"zwei\", \"drei\", \"vier\", \"funf\"]\n",
    "\n",
    "\t#Our built-in iterator\n",
    "\t#Creates a tuple such as (1, \"eins\")\n",
    "\titerator = zip(range(count), numbers_in_german)\n",
    "\n",
    "\t#Iterate through our iterable list\n",
    "\t#Extract the German numbers\n",
    "\t#Put them in a generator called number\n",
    "\tfor position, number in iterator:\n",
    "\n",
    "\t\t#Returns a 'generator' containing numbers in German\n",
    "\t\tyield number\n",
    "\n",
    "#Let's test the generator returned by our iterator\n",
    "for num in count_to(3):\n",
    "    print(num)\n",
    "\n",
    "for num in count_to(10):\n",
    "    print(num)\n"
   ]
  },
  {
   "cell_type": "code",
   "execution_count": 2,
   "metadata": {},
   "outputs": [
    {
     "data": {
      "text/plain": [
       "range(0, 4)"
      ]
     },
     "execution_count": 2,
     "metadata": {},
     "output_type": "execute_result"
    }
   ],
   "source": [
    "range(4)"
   ]
  }
 ],
 "metadata": {
  "kernelspec": {
   "display_name": "Python 3",
   "language": "python",
   "name": "python3"
  },
  "language_info": {
   "codemirror_mode": {
    "name": "ipython",
    "version": 3
   },
   "file_extension": ".py",
   "mimetype": "text/x-python",
   "name": "python",
   "nbconvert_exporter": "python",
   "pygments_lexer": "ipython3",
   "version": "3.9.13"
  },
  "orig_nbformat": 4,
  "vscode": {
   "interpreter": {
    "hash": "4d4e58afd13afe2b3fbfe86df77ca093c8534cab39407234a0fa2ee00983a445"
   }
  }
 },
 "nbformat": 4,
 "nbformat_minor": 2
}
