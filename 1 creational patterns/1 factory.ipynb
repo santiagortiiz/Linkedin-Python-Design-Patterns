{
 "cells": [
  {
   "cell_type": "code",
   "execution_count": 5,
   "metadata": {},
   "outputs": [
    {
     "name": "stdout",
     "output_type": "stream",
     "text": [
      "Woof!\n",
      "Meow!\n"
     ]
    }
   ],
   "source": [
    "class Dog:\n",
    "\t\"\"\"A simple dog class\"\"\"\n",
    "\n",
    "\tdef __init__(self, name):\n",
    "\t\tself._name = name\n",
    "\n",
    "\tdef speak(self):\n",
    "\t\treturn \"Woof!\"\n",
    "\n",
    "class Cat:\n",
    "\t\"\"\"A simple cat class\"\"\"\n",
    "\n",
    "\tdef __init__(self, name):\n",
    "\t\tself._name = name\n",
    "\n",
    "\tdef speak(self):\n",
    "\t\treturn \"Meow!\"\n",
    "\n",
    "def get_pet(pet=\"dog\"):\n",
    "\t\"\"\"The factory method\"\"\"\n",
    "\tpets = {\n",
    "\t\t\"dog\": Dog(\"Hope\"),\n",
    "\t\t\"cat\": Cat(\"Peace\")\n",
    "\t}\n",
    "\treturn pets[pet]\n",
    "\n",
    "d = get_pet(\"dog\")\n",
    "print(d.speak())\n",
    "\n",
    "c = get_pet(\"cat\")\n",
    "print(c.speak())"
   ]
  },
  {
   "cell_type": "code",
   "execution_count": 6,
   "metadata": {},
   "outputs": [
    {
     "data": {
      "text/plain": [
       "('Hope', 'Peace')"
      ]
     },
     "execution_count": 6,
     "metadata": {},
     "output_type": "execute_result"
    }
   ],
   "source": [
    "d._name, c._name"
   ]
  },
  {
   "cell_type": "code",
   "execution_count": null,
   "metadata": {},
   "outputs": [],
   "source": []
  }
 ],
 "metadata": {
  "kernelspec": {
   "display_name": "Python 3",
   "language": "python",
   "name": "python3"
  },
  "language_info": {
   "codemirror_mode": {
    "name": "ipython",
    "version": 3
   },
   "file_extension": ".py",
   "mimetype": "text/x-python",
   "name": "python",
   "nbconvert_exporter": "python",
   "pygments_lexer": "ipython3",
   "version": "3.9.13"
  },
  "orig_nbformat": 4,
  "vscode": {
   "interpreter": {
    "hash": "4d4e58afd13afe2b3fbfe86df77ca093c8534cab39407234a0fa2ee00983a445"
   }
  }
 },
 "nbformat": 4,
 "nbformat_minor": 2
}
