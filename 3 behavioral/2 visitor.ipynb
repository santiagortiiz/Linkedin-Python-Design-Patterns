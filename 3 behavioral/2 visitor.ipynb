{
 "cells": [
  {
   "attachments": {},
   "cell_type": "markdown",
   "metadata": {},
   "source": [
    "# Visitor\n",
    "\n",
    "Allows adding new behaviors to existing class hierarchy without altering any existing code"
   ]
  },
  {
   "cell_type": "code",
   "execution_count": 7,
   "metadata": {},
   "outputs": [],
   "source": [
    "class Visitor:\n",
    "    \"\"\"Abstract visitor\"\"\"\n",
    "\n",
    "    def __str__(self):\n",
    "        \"\"\"Simply return the class name when the Visitor object is printed\"\"\"\n",
    "        return self.__class__.__name__"
   ]
  },
  {
   "cell_type": "code",
   "execution_count": 9,
   "metadata": {},
   "outputs": [
    {
     "name": "stdout",
     "output_type": "stream",
     "text": [
      "House worked on by HvacSpecialist\n",
      "House worked on by Electrician\n"
     ]
    }
   ],
   "source": [
    "class House: #The class being visited\n",
    "\tdef accept(self, visitor: Visitor):\n",
    "\t\t\"\"\"Interface to accept a visitor\"\"\"\n",
    "\t\tvisitor.visit(self) #Triggers the visiting operation!\n",
    "\n",
    "\tdef work_on_hvac(self, hvac_specialist):\n",
    "\t\tprint(self, \"worked on by\", hvac_specialist) #Note that we now have a reference to the HVAC specialist object in the house object!\n",
    "\n",
    "\tdef work_on_electricity(self, electrician):\n",
    "\t\tprint(self, \"worked on by\", electrician) #Note that we now have a reference to the electrician object in the house object!\n",
    "\n",
    "\tdef __str__(self):\n",
    "\t\t\"\"\"Simply return the class name when the House object is printed\"\"\"\n",
    "\t\treturn self.__class__.__name__\n",
    "\n",
    "\n",
    "class HvacSpecialist(Visitor): #Inherits from the parent class, Visitor\n",
    "\t\"\"\"Concrete visitor: HVAC specialist\"\"\"\n",
    "\tdef visit(self, house: House):\n",
    "\t\thouse.work_on_hvac(self) #Note that the visitor now has a reference to the house object\n",
    "\n",
    "\n",
    "class Electrician(Visitor): #Inherits from the parent class, Visitor\n",
    "\t\"\"\"Concrete visitor: electrician\"\"\"\n",
    "\tdef visit(self, house: House):\n",
    "\t\thouse.work_on_electricity(self) #Note that the visitor now has a reference to the house object\n",
    "\n",
    "#Create an HVAC specialist\n",
    "hv = HvacSpecialist()\n",
    "#Create an electrician\n",
    "e = Electrician()\n",
    "\n",
    "#Create a house\n",
    "home = House()\n",
    "\n",
    "#Let the house accept the HVAC specialist and work on the house by invoking the visit() method\n",
    "home.accept(hv)\n",
    "\n",
    "#Let the house accept the electrician and work on the house by invoking the visit() method\n",
    "home.accept(e)"
   ]
  }
 ],
 "metadata": {
  "kernelspec": {
   "display_name": "Python 3",
   "language": "python",
   "name": "python3"
  },
  "language_info": {
   "codemirror_mode": {
    "name": "ipython",
    "version": 3
   },
   "file_extension": ".py",
   "mimetype": "text/x-python",
   "name": "python",
   "nbconvert_exporter": "python",
   "pygments_lexer": "ipython3",
   "version": "3.9.13"
  },
  "orig_nbformat": 4,
  "vscode": {
   "interpreter": {
    "hash": "4d4e58afd13afe2b3fbfe86df77ca093c8534cab39407234a0fa2ee00983a445"
   }
  }
 },
 "nbformat": 4,
 "nbformat_minor": 2
}
