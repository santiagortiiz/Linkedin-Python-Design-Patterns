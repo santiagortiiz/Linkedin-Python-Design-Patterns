{
 "cells": [
  {
   "cell_type": "code",
   "execution_count": null,
   "metadata": {},
   "outputs": [],
   "source": [
    "class Director():\n",
    "    \"\"\"Director\"\"\"\n",
    "    def __init__(self, builder):\n",
    "        self._builder = builder\n",
    "\n",
    "    def construct_car(self):\n",
    "        self._builder.create_new_car()\n",
    "        self._builder.add_model()\n",
    "        self._builder.add_tires()\n",
    "        self._builder.add_engine()\n",
    "\n",
    "    def get_car(self):\n",
    "        return self._builder.car\n",
    "\n",
    "\n",
    "class Builder():\n",
    "    \"\"\"Abstract Builder\"\"\"\n",
    "    def __init__(self):\n",
    "        self.car = None\n",
    "\n",
    "    def create_new_car(self):\n",
    "        self.car = Car()\n",
    "\n",
    "\n",
    "class SkyLarkBuilder(Builder):\n",
    "    \"\"\"Concrete Builder --> provides parts and tools to work on the parts \"\"\"\n",
    "\n",
    "    def add_model(self):\n",
    "        self.car.model = \"Skylark\"\n",
    "\n",
    "    def add_tires(self):\n",
    "        self.car.tires = \"Regular tires\"\n",
    "\n",
    "    def add_engine(self):\n",
    "        self.car.engine = \"Turbo engine\"\n",
    "\n",
    "class Car():\n",
    "    \"\"\"Product\"\"\"\n",
    "    def __init__(self):\n",
    "        self.model = None\n",
    "        self.tires = None\n",
    "        self.engine = None\n",
    "\n",
    "    def __str__(self):\n",
    "        return '{} | {} | {}'.format(self.model, self.tires, self.engine)\n",
    "\n",
    "builder = SkyLarkBuilder()\n",
    "director = Director(builder)\n",
    "director.construct_car()\n",
    "car = director.get_car()\n",
    "print(car)"
   ]
  }
 ],
 "metadata": {
  "kernelspec": {
   "display_name": "Python 3",
   "language": "python",
   "name": "python3"
  },
  "language_info": {
   "name": "python",
   "version": "3.9.13 (tags/v3.9.13:6de2ca5, May 17 2022, 16:36:42) [MSC v.1929 64 bit (AMD64)]"
  },
  "orig_nbformat": 4,
  "vscode": {
   "interpreter": {
    "hash": "4d4e58afd13afe2b3fbfe86df77ca093c8534cab39407234a0fa2ee00983a445"
   }
  }
 },
 "nbformat": 4,
 "nbformat_minor": 2
}
