{
 "cells": [
  {
   "cell_type": "code",
   "execution_count": 1,
   "metadata": {},
   "outputs": [
    {
     "name": "stdout",
     "output_type": "stream",
     "text": [
      "{'HTTP': 'Hyper Text Transfer Protocol'}\n",
      "{'HTTP': 'Hyper Text Transfer Protocol', 'SNMP': 'Simple Network Management Protocol'}\n"
     ]
    }
   ],
   "source": [
    "class Borg:\n",
    "    \"\"\"Borg pattern making the class attributes global\"\"\"\n",
    "    # Attribute dictionary\n",
    "    _shared_data = {}\n",
    "\n",
    "    def __init__(self):\n",
    "        # Make it an attribute dictionary\n",
    "        self.__dict__ = self._shared_data\n",
    "\n",
    "\n",
    "class Singleton(Borg):\n",
    "    \"\"\"This class now shares all its attributes among its various instances\"\"\"\n",
    "    #This essenstially makes the singleton objects an object-oriented global variable\n",
    "\n",
    "    def __init__(self, **kwargs):\n",
    "        Borg.__init__(self)\n",
    "\n",
    "        # Update the attribute dictionary by inserting a new key-value pair\n",
    "        self._shared_data.update(kwargs)\n",
    "\n",
    "    def __str__(self):\n",
    "        return str(self._shared_data) # Returns the attribute dictionary for printing\n",
    "\n",
    "#Let's create a singleton object and add our first acronym\n",
    "x = Singleton(HTTP=\"Hyper Text Transfer Protocol\")\n",
    "print(x)\n",
    "\n",
    "#Let's create another singleton object and if it refers to the same attribute dictionary by adding another acronym.\n",
    "y = Singleton(SNMP=\"Simple Network Management Protocol\")\n",
    "print(y)"
   ]
  },
  {
   "cell_type": "code",
   "execution_count": null,
   "metadata": {},
   "outputs": [],
   "source": []
  }
 ],
 "metadata": {
  "kernelspec": {
   "display_name": "Python 3",
   "language": "python",
   "name": "python3"
  },
  "language_info": {
   "codemirror_mode": {
    "name": "ipython",
    "version": 3
   },
   "file_extension": ".py",
   "mimetype": "text/x-python",
   "name": "python",
   "nbconvert_exporter": "python",
   "pygments_lexer": "ipython3",
   "version": "3.9.13"
  },
  "orig_nbformat": 4,
  "vscode": {
   "interpreter": {
    "hash": "4d4e58afd13afe2b3fbfe86df77ca093c8534cab39407234a0fa2ee00983a445"
   }
  }
 },
 "nbformat": 4,
 "nbformat_minor": 2
}
