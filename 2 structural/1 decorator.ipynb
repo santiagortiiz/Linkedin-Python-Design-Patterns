{
 "cells": [
  {
   "attachments": {},
   "cell_type": "markdown",
   "metadata": {},
   "source": [
    "# Decorator\n",
    "To add new features to existing objects without changing their structures\n",
    "\n",
    "# Problem to solve\n",
    "[Related documentation](https://www.geeksforgeeks.org/python-functools-wraps-function/)"
   ]
  },
  {
   "cell_type": "code",
   "execution_count": 1,
   "metadata": {},
   "outputs": [
    {
     "name": "stdout",
     "output_type": "stream",
     "text": [
      "wrapper\n",
      "A wrapper function\n",
      "wrapper\n",
      "A wrapper function\n"
     ]
    }
   ],
   "source": [
    "def a_decorator(func):\n",
    "\tdef wrapper(*args, **kwargs):\n",
    "\t\t\"\"\"A wrapper function\"\"\"\n",
    "\t\t# Extend some capabilities of func\n",
    "\t\tfunc()\n",
    "\treturn wrapper\n",
    "\n",
    "@a_decorator\n",
    "def first_function():\n",
    "\t\"\"\"This is docstring for first function\"\"\"\n",
    "\tprint(\"first function\")\n",
    "\n",
    "@a_decorator\n",
    "def second_function(a):\n",
    "\t\"\"\"This is docstring for second function\"\"\"\n",
    "\tprint(\"second function\")\n",
    "\n",
    "print(first_function.__name__)\n",
    "print(first_function.__doc__)\n",
    "print(second_function.__name__)\n",
    "print(second_function.__doc__)\n"
   ]
  },
  {
   "cell_type": "code",
   "execution_count": 2,
   "metadata": {},
   "outputs": [
    {
     "name": "stdout",
     "output_type": "stream",
     "text": [
      "First Function\n",
      "Help on function wrapper in module __main__:\n",
      "\n",
      "wrapper(*args, **kwargs)\n",
      "    A wrapper function\n",
      "\n",
      "\n",
      "Second Function\n",
      "Help on function wrapper in module __main__:\n",
      "\n",
      "wrapper(*args, **kwargs)\n",
      "    A wrapper function\n",
      "\n"
     ]
    }
   ],
   "source": [
    "print(\"First Function\")\n",
    "help(first_function)\n",
    "\n",
    "print(\"\\nSecond Function\")\n",
    "help(second_function)\n"
   ]
  },
  {
   "attachments": {},
   "cell_type": "markdown",
   "metadata": {},
   "source": [
    "# Solution"
   ]
  },
  {
   "cell_type": "code",
   "execution_count": 3,
   "metadata": {},
   "outputs": [
    {
     "name": "stdout",
     "output_type": "stream",
     "text": [
      "<blink>Hello, World!</blink>\n",
      "hello_world\n",
      "Original function! \n"
     ]
    }
   ],
   "source": [
    "from functools import wraps\n",
    "\n",
    "def make_blink(function):\n",
    "\t\"\"\"Defines the decorator\"\"\"\n",
    "\n",
    "\t#This makes the decorator transparent in terms of its name and docstring\n",
    "\t@wraps(function)\n",
    "\n",
    "\t#Define the inner function\n",
    "\tdef decorator(*args, **kwargs):\n",
    "\t\t#Grab the return value of the function being decorated\n",
    "\t\tret = function()\n",
    "\n",
    "\t\t#Add new functionality to the function being decorated\n",
    "\t\treturn \"<blink>\" + ret + \"</blink>\"\n",
    "\n",
    "\treturn decorator\n",
    "\n",
    "#Apply the decorator here!\n",
    "@make_blink\n",
    "def hello_world():\n",
    "\t\"\"\"Original function! \"\"\"\n",
    "\n",
    "\treturn \"Hello, World!\"\n",
    "\n",
    "#Check the result of decorating\n",
    "print(hello_world())\n",
    "\n",
    "#Check if the function name is still the same name of the function being decorated\n",
    "print(hello_world.__name__)\n",
    "\n",
    "#Check if the docstring is still the same as that of the function being decorated\n",
    "print(hello_world.__doc__)\n"
   ]
  },
  {
   "attachments": {},
   "cell_type": "markdown",
   "metadata": {},
   "source": [
    "# Example 1: Decorator with parameter"
   ]
  },
  {
   "cell_type": "code",
   "execution_count": 6,
   "metadata": {},
   "outputs": [
    {
     "name": "stdout",
     "output_type": "stream",
     "text": [
      "My decorator received parameter example\n",
      "1 My function is being decorated\n"
     ]
    }
   ],
   "source": [
    "from functools import wraps\n",
    "\n",
    "def my_decorator(param):\n",
    "\n",
    "    def wrapper(func):\n",
    "\n",
    "        @wraps(func)\n",
    "        def inner(*args, **kwargs):\n",
    "            print(f\"My decorator received parameter {param}\")\n",
    "            result = func(*args, **kwargs)\n",
    "            return result\n",
    "\n",
    "        return inner\n",
    "\n",
    "    return wrapper\n",
    "\n",
    "@my_decorator(param=\"example\")\n",
    "def my_function(a: int):\n",
    "    print(a, \"My function is being decorated\")\n",
    "\n",
    "my_function(1)"
   ]
  },
  {
   "attachments": {},
   "cell_type": "markdown",
   "metadata": {},
   "source": [
    "# Example 2: Update variable from inside a decorator"
   ]
  },
  {
   "cell_type": "code",
   "execution_count": 11,
   "metadata": {},
   "outputs": [
    {
     "name": "stdout",
     "output_type": "stream",
     "text": [
      "1\n",
      "2\n",
      "done\n"
     ]
    }
   ],
   "source": [
    "from functools import wraps\n",
    "\n",
    "def my_decorator(token: int = 0):\n",
    "\n",
    "    def wrapper(func):\n",
    "\n",
    "        @wraps(func)\n",
    "        def inner(*args, **kwargs):\n",
    "            \"\"\"Update a parameter from the inside\"\"\"\n",
    "            nonlocal token\n",
    "            token += 1\n",
    "            print(token)\n",
    "\n",
    "            response = func(*args, **kwargs)\n",
    "            return response\n",
    "\n",
    "        return inner\n",
    "\n",
    "    return wrapper\n",
    "\n",
    "@my_decorator()\n",
    "def sum(a, b):\n",
    "    return a + b\n",
    "\n",
    "sum(1, 2)\n",
    "sum(1, 1)\n",
    "print('done')"
   ]
  },
  {
   "attachments": {},
   "cell_type": "markdown",
   "metadata": {},
   "source": [
    "# Use Case: Refresh token"
   ]
  },
  {
   "cell_type": "code",
   "execution_count": 30,
   "metadata": {},
   "outputs": [],
   "source": [
    "def refresh_access_token():\n",
    "    return 'new_token'\n",
    "\n",
    "def expired(token):\n",
    "    return False\n",
    "\n",
    "\n",
    "# Refresh access token\n",
    "from functools import wraps\n",
    "\n",
    "def auto_refresh_token(tokens: dict):\n",
    "    \"\"\"Refresh the access token if it has expired\"\"\"\n",
    "\n",
    "    def wrapper(func):\n",
    "\n",
    "        @wraps(func)\n",
    "        def inner(*args, **kwargs):\n",
    "            access_token = tokens['access_token']\n",
    "\n",
    "            if not access_token or expired(access_token):\n",
    "                tokens['access_token'] = refresh_access_token(tokens['refresh_token'])\n",
    "\n",
    "            response = func(*args, **kwargs)\n",
    "            return response\n",
    "\n",
    "        return inner\n",
    "    return wrapper"
   ]
  }
 ],
 "metadata": {
  "kernelspec": {
   "display_name": "Python 3",
   "language": "python",
   "name": "python3"
  },
  "language_info": {
   "codemirror_mode": {
    "name": "ipython",
    "version": 3
   },
   "file_extension": ".py",
   "mimetype": "text/x-python",
   "name": "python",
   "nbconvert_exporter": "python",
   "pygments_lexer": "ipython3",
   "version": "3.9.13"
  },
  "orig_nbformat": 4,
  "vscode": {
   "interpreter": {
    "hash": "4d4e58afd13afe2b3fbfe86df77ca093c8534cab39407234a0fa2ee00983a445"
   }
  }
 },
 "nbformat": 4,
 "nbformat_minor": 2
}
