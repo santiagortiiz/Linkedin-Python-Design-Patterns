{
 "cells": [
  {
   "attachments": {},
   "cell_type": "markdown",
   "metadata": {},
   "source": [
    "# Composite\n",
    "\n",
    "Useful for tree structures"
   ]
  },
  {
   "cell_type": "code",
   "execution_count": 2,
   "metadata": {},
   "outputs": [],
   "source": [
    "from abc import ABC, abstractmethod"
   ]
  },
  {
   "cell_type": "code",
   "execution_count": 8,
   "metadata": {},
   "outputs": [],
   "source": [
    "class Component(ABC):\n",
    "\n",
    "    @abstractmethod\n",
    "    def __init__(self, *args, **kwargs):\n",
    "        pass\n",
    "\n",
    "    @abstractmethod\n",
    "    def component_function(self):\n",
    "        pass"
   ]
  },
  {
   "cell_type": "code",
   "execution_count": 9,
   "metadata": {},
   "outputs": [],
   "source": [
    "class Child(Component): #Inherits from the abstract class, Component\n",
    "\t\"\"\"Concrete class\"\"\"\n",
    "\n",
    "\tdef __init__(self, *args, **kwargs):\n",
    "\t\tComponent.__init__(self, *args, **kwargs)\n",
    "\n",
    "\t\t#This is where we store the name of your child item!\n",
    "\t\tself.name = args[0]\n",
    "\n",
    "\tdef component_function(self):\n",
    "\t\t#Print the name of your child item here!\n",
    "\t\tprint(self.name)"
   ]
  },
  {
   "cell_type": "code",
   "execution_count": 10,
   "metadata": {},
   "outputs": [],
   "source": [
    "class Composite(Component): #Inherits from the abstract class, Component\n",
    "\t\"\"\"Concrete class and maintains the tree recursive structure\"\"\"\n",
    "\n",
    "\tdef __init__(self, *args, **kwargs):\n",
    "\t\tComponent.__init__(self, *args, **kwargs)\n",
    "\n",
    "\t\t#This is where we store the name of the composite object\n",
    "\t\tself.name = args[0]\n",
    "\n",
    "\t\t#This is where we keep our child items\n",
    "\t\tself.children = []\n",
    "\n",
    "\tdef append_child(self, child):\n",
    "\t\t\"\"\"Method to add a new child item\"\"\"\n",
    "\t\tself.children.append(child)\n",
    "\n",
    "\tdef remove_child(self, child):\n",
    "\t\t\"\"\"Method to remove a child item\"\"\"\n",
    "\t\tself.children.remove(child)\n",
    "\n",
    "\tdef component_function(self):\n",
    "\n",
    "\t\t#Print the name of the composite object\n",
    "\t\tprint(self.name)\n",
    "\n",
    "\t\t#Iterate through the child objects and invoke their component function printing their names\n",
    "\t\tfor i in self.children:\n",
    "\t\t\ti.component_function()"
   ]
  },
  {
   "cell_type": "code",
   "execution_count": 11,
   "metadata": {},
   "outputs": [
    {
     "name": "stdout",
     "output_type": "stream",
     "text": [
      "top_menu\n",
      "submenu1\n",
      "sub_submenu 11\n",
      "sub_submenu 12\n",
      "submenu2\n"
     ]
    }
   ],
   "source": [
    "#Build a composite submenu 1\n",
    "sub1 = Composite(\"submenu1\")\n",
    "\n",
    "#Create a new child sub_submenu 11\n",
    "sub11 = Child(\"sub_submenu 11\")\n",
    "#Create a new Child sub_submenu 12\n",
    "sub12 = Child(\"sub_submenu 12\")\n",
    "\n",
    "#Add the sub_submenu 11 to submenu 1\n",
    "sub1.append_child(sub11)\n",
    "#Add the sub_submenu 12 to submenu 1\n",
    "sub1.append_child(sub12)\n",
    "\n",
    "#Build a top-level composite menu\n",
    "top = Composite(\"top_menu\")\n",
    "\n",
    "#Build a submenu 2 that is not a composite\n",
    "sub2 = Child(\"submenu2\")\n",
    "\n",
    "#Add the composite submenu 1 to the top-level composite menu\n",
    "top.append_child(sub1)\n",
    "\n",
    "#Add the plain submenu 2 to the top-level composite menu\n",
    "top.append_child(sub2)\n",
    "\n",
    "#Let's test if our Composite pattern works!\n",
    "top.component_function()"
   ]
  },
  {
   "cell_type": "code",
   "execution_count": null,
   "metadata": {},
   "outputs": [],
   "source": []
  }
 ],
 "metadata": {
  "kernelspec": {
   "display_name": "Python 3",
   "language": "python",
   "name": "python3"
  },
  "language_info": {
   "codemirror_mode": {
    "name": "ipython",
    "version": 3
   },
   "file_extension": ".py",
   "mimetype": "text/x-python",
   "name": "python",
   "nbconvert_exporter": "python",
   "pygments_lexer": "ipython3",
   "version": "3.9.13"
  },
  "orig_nbformat": 4,
  "vscode": {
   "interpreter": {
    "hash": "4d4e58afd13afe2b3fbfe86df77ca093c8534cab39407234a0fa2ee00983a445"
   }
  }
 },
 "nbformat": 4,
 "nbformat_minor": 2
}
