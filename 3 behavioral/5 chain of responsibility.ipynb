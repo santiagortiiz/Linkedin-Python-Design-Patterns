{
 "cells": [
  {
   "attachments": {},
   "cell_type": "markdown",
   "metadata": {},
   "source": [
    "# Chain of responsibility\n",
    "\n",
    "Allows passing request along the chain of potential handlers until one of them handles request."
   ]
  },
  {
   "cell_type": "code",
   "execution_count": 2,
   "metadata": {},
   "outputs": [],
   "source": [
    "class Handler:\n",
    "    \"\"\"Abstract Handler\"\"\"\n",
    "    def __init__(self, successor) -> None:\n",
    "        self._successor = successor\n",
    "\n",
    "    def handle(self, request):\n",
    "        handled = self._handle(request)\n",
    "\n",
    "        if not handled:\n",
    "            self._successor.handle(request)\n",
    "\n",
    "    def _handle(self, requests):\n",
    "        raise NotImplementedError('Must provide implementation in subclass')"
   ]
  },
  {
   "cell_type": "code",
   "execution_count": 3,
   "metadata": {},
   "outputs": [
    {
     "name": "stdout",
     "output_type": "stream",
     "text": [
      "Request 2 handled in handler 1\n",
      "Request 5 handled in handler 1\n",
      "End of chain, no handler for 15\n",
      "End of chain, no handler for 30\n",
      "Request 10 handled in handler 1\n"
     ]
    }
   ],
   "source": [
    "class ConcreteHandler1(Handler): # Inherits from the abstract handler\n",
    "\t\"\"\"Concrete handler 1\"\"\"\n",
    "\tdef _handle(self, request):\n",
    "\t\tif 0 < request <= 10: # Provide a condition for handling\n",
    "\t\t\tprint(\"Request {} handled in handler 1\".format(request))\n",
    "\t\t\treturn True # Indicates that the request has been handled\n",
    "\n",
    "class DefaultHandler(Handler): # Inherits from the abstract handler\n",
    "\t\"\"\"Default handler\"\"\"\n",
    "\n",
    "\tdef _handle(self, request):\n",
    "\t\t\"\"\"If there is no handler available\"\"\"\n",
    "\t\t#No condition checking since this is a default handler\n",
    "\t\tprint(\"End of chain, no handler for {}\".format(request))\n",
    "\t\treturn True # Indicates that the request has been handled\n",
    "\n",
    "class Client: # Using handlers\n",
    "\tdef __init__(self):\n",
    "\t\tself.handler = ConcreteHandler1(DefaultHandler(None)) # Create handlers and use them in a sequence you want\n",
    "\t\t                                                      # Note that the default handler has no successor\n",
    "\n",
    "\tdef delegate(self, requests): # Send your requests one at a time for handlers to handle\n",
    "\t\tfor request in requests:\n",
    "\t\t\t\tself.handler.handle(request)\n",
    "\n",
    "# Create a client\n",
    "c = Client()\n",
    "\n",
    "# Create requests\n",
    "requests = [2, 5, 15, 30, 10]\n",
    "\n",
    "# Send the requests\n",
    "c.delegate(requests)"
   ]
  },
  {
   "cell_type": "code",
   "execution_count": null,
   "metadata": {},
   "outputs": [],
   "source": []
  }
 ],
 "metadata": {
  "kernelspec": {
   "display_name": "Python 3",
   "language": "python",
   "name": "python3"
  },
  "language_info": {
   "codemirror_mode": {
    "name": "ipython",
    "version": 3
   },
   "file_extension": ".py",
   "mimetype": "text/x-python",
   "name": "python",
   "nbconvert_exporter": "python",
   "pygments_lexer": "ipython3",
   "version": "3.9.13"
  },
  "orig_nbformat": 4,
  "vscode": {
   "interpreter": {
    "hash": "4d4e58afd13afe2b3fbfe86df77ca093c8534cab39407234a0fa2ee00983a445"
   }
  }
 },
 "nbformat": 4,
 "nbformat_minor": 2
}
