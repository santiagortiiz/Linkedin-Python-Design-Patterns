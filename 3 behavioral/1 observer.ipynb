{
 "cells": [
  {
   "attachments": {},
   "cell_type": "markdown",
   "metadata": {},
   "source": [
    "# Observer\n",
    "Useful to notify other objects about updates or changes in the state of another one of interest"
   ]
  },
  {
   "cell_type": "code",
   "execution_count": 1,
   "metadata": {},
   "outputs": [
    {
     "name": "stdout",
     "output_type": "stream",
     "text": [
      "Temperature Viewer: Core 1 has Temperature 80\n",
      "Temperature Viewer: Core 1 has Temperature 80\n",
      "Temperature Viewer: Core 1 has Temperature 90\n",
      "Temperature Viewer: Core 1 has Temperature 90\n"
     ]
    }
   ],
   "source": [
    "class Subject(object): #Represents what is being 'observed'\n",
    "\n",
    "\tdef __init__(self):\n",
    "\t\tself._observers = [] # This where references to all the observers are being kept\n",
    "\t\t\t\t\t\t\t # Note that this is a one-to-many relationship: there will be one subject to be observed by multiple _observers\n",
    "\n",
    "\tdef attach(self, observer):\n",
    "\t\tif observer not in self._observers: #If the observer is not already in the observers list\n",
    "\t\t\tself._observers.append(observer) # append the observer to the list\n",
    "\n",
    "\tdef detach(self, observer): #Simply remove the observer\n",
    "\t\ttry:\n",
    "\t\t\tself._observers.remove(observer)\n",
    "\t\texcept ValueError:\n",
    "\t\t\tpass\n",
    "\n",
    "\tdef notify(self, modifier=None):\n",
    "\t\tfor observer in self._observers: # For all the observers in the list\n",
    "\t\t\tif modifier != observer: # Don't notify the observer who is actually updating the temperature \n",
    "\t\t\t\tobserver.update(self) # Alert the observers!\n",
    "\n",
    "class Core(Subject): #Inherits from the Subject class\n",
    "\n",
    "\tdef __init__(self, name=\"\"):\n",
    "\t\tSubject.__init__(self)\n",
    "\t\tself._name = name #Set the name of the core\n",
    "\t\tself._temp = 0 #Initialize the temperature of the core\n",
    "\n",
    "\t@property #Getter that gets the core temperature\n",
    "\tdef temp(self):\n",
    "\t\treturn self._temp\n",
    "\n",
    "\t@temp.setter #Setter that sets the core temperature\n",
    "\tdef temp(self, temp):\n",
    "\t\tself._temp = temp\n",
    "\t\tself.notify() #Notify the observers whenever somebody changes the core temperature\n",
    "\n",
    "class TempViewer:\n",
    "\n",
    "\tdef update(self, subject): #Alert method that is invoked when the notify() method in a concrete subject is invoked\n",
    "\t\tprint(\"Temperature Viewer: {} has Temperature {}\".format(subject._name, subject._temp))\n",
    "\n",
    "#Let's create our subjects\n",
    "c1 = Core(\"Core 1\")\n",
    "c2 = Core(\"Core 2\")\n",
    "\n",
    "#Let's create our observers\n",
    "v1 = TempViewer()\n",
    "v2 = TempViewer()\n",
    "\n",
    "#Let's attach our observers to the first core\n",
    "c1.attach(v1)\n",
    "c1.attach(v2)\n",
    "\n",
    "#Let's change the temperature of our first core\n",
    "c1.temp = 80\n",
    "c1.temp = 90\n"
   ]
  }
 ],
 "metadata": {
  "kernelspec": {
   "display_name": "Python 3",
   "language": "python",
   "name": "python3"
  },
  "language_info": {
   "codemirror_mode": {
    "name": "ipython",
    "version": 3
   },
   "file_extension": ".py",
   "mimetype": "text/x-python",
   "name": "python",
   "nbconvert_exporter": "python",
   "pygments_lexer": "ipython3",
   "version": "3.9.13"
  },
  "orig_nbformat": 4,
  "vscode": {
   "interpreter": {
    "hash": "4d4e58afd13afe2b3fbfe86df77ca093c8534cab39407234a0fa2ee00983a445"
   }
  }
 },
 "nbformat": 4,
 "nbformat_minor": 2
}
