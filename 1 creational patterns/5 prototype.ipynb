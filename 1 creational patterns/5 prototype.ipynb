{
 "cells": [
  {
   "cell_type": "code",
   "execution_count": 1,
   "metadata": {},
   "outputs": [
    {
     "name": "stdout",
     "output_type": "stream",
     "text": [
      "Skylark | Red | Ex\n"
     ]
    }
   ],
   "source": [
    "import copy\n",
    "\n",
    "class Prototype:\n",
    "\n",
    "    def __init__(self):\n",
    "        self._objects = {}\n",
    "\n",
    "    def register_object(self, name, obj):\n",
    "        \"\"\"Register an object\"\"\"\n",
    "        self._objects[name] = obj\n",
    "\n",
    "    def unregister_object(self, name):\n",
    "        \"\"\"Unregister an object\"\"\"\n",
    "        del self._objects[name]\n",
    "\n",
    "    def clone(self, name, **attr):\n",
    "        \"\"\"Clone a registered object and update its attributes\"\"\"\n",
    "        obj = copy.deepcopy(self._objects.get(name))\n",
    "        obj.__dict__.update(attr)\n",
    "        return obj\n",
    "\n",
    "class Car:\n",
    "    def __init__(self):\n",
    "        self.name = \"Skylark\"\n",
    "        self.color = \"Red\"\n",
    "        self.options = \"Ex\"\n",
    "\n",
    "    def __str__(self):\n",
    "        return '{} | {} | {}'.format(self.name, self.color, self.options)\n",
    "\n",
    "c = Car()\n",
    "prototype = Prototype()\n",
    "prototype.register_object('skylark',c)\n",
    "\n",
    "c1 = prototype.clone('skylark')\n",
    "\n",
    "print(c1)"
   ]
  },
  {
   "cell_type": "code",
   "execution_count": null,
   "metadata": {},
   "outputs": [],
   "source": []
  }
 ],
 "metadata": {
  "kernelspec": {
   "display_name": "Python 3",
   "language": "python",
   "name": "python3"
  },
  "language_info": {
   "codemirror_mode": {
    "name": "ipython",
    "version": 3
   },
   "file_extension": ".py",
   "mimetype": "text/x-python",
   "name": "python",
   "nbconvert_exporter": "python",
   "pygments_lexer": "ipython3",
   "version": "3.9.13"
  },
  "orig_nbformat": 4,
  "vscode": {
   "interpreter": {
    "hash": "4d4e58afd13afe2b3fbfe86df77ca093c8534cab39407234a0fa2ee00983a445"
   }
  }
 },
 "nbformat": 4,
 "nbformat_minor": 2
}
